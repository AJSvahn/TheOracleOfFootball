{
 "cells": [
  {
   "cell_type": "code",
   "execution_count": 4,
   "metadata": {},
   "outputs": [],
   "source": [
    "import json\n",
    "import sys"
   ]
  },
  {
   "cell_type": "code",
   "execution_count": 50,
   "metadata": {},
   "outputs": [],
   "source": [
    "#Returns a single teamID of the higher ranked team in the GF rankings.\n",
    "#Takes a pair of teamIDs and the lookup table of ID, ranking (teamInfo.json)\n",
    "\n",
    "def bestGfTeam (teamIDs, teamInfo):\n",
    "    homeRank=-1; awayRank=-1\n",
    "    for team in teamInfo['teams']:\n",
    "        if team['id'] == teamIDs[0]:\n",
    "            homeRank = team['gf_position']\n",
    "        elif team['id'] == teamIDs[1]:\n",
    "            awayRank = team['gf_position']\n",
    "    \n",
    "    if(homeRank < 0 or awayRank < 0):\n",
    "            return \"Unable to grab points for one or both teams\"\n",
    "    \n",
    "    \n",
    "    if((homeRank - awayRank == 1) or (awayRank - homeRank == 1)\n",
    "          and ((homeRank >= 13) and (awayRank >= 13))):\n",
    "        return(0)\n",
    "        \n",
    "    \n",
    "    if(homeRank < awayRank):\n",
    "        return (teamIDs[0])\n",
    "    else:\n",
    "        return (teamIDs[1])"
   ]
  },
  {
   "cell_type": "code",
   "execution_count": 14,
   "metadata": {},
   "outputs": [],
   "source": [
    "#Takes the schedule and teamInfo parsed dictionaries. Runs through the schedule, pulling out team-ids and running the\n",
    "#bestGfTeam function to return the higher team in the GF rankings. Returns a list of teamIDs from the iterated bestestTeam function.\n",
    "\n",
    "def doTableBotPredict(schedule, teamInfo):\n",
    "    \n",
    "    predictions=[]\n",
    "    \n",
    "    for match in schedule['matches']:\n",
    "        predictions.append(\n",
    "            bestGfTeam((match['homeTeam']['id'], \n",
    "                         match['awayTeam']['id']), teamInfo)\n",
    "                            )\n",
    "    \n",
    "    return predictions"
   ]
  },
  {
   "cell_type": "code",
   "execution_count": 37,
   "metadata": {},
   "outputs": [],
   "source": [
    "def lookupInfo(teamID, teamInfo):\n",
    "    \n",
    "    if (teamID == 0):\n",
    "        return (\"Draw\")\n",
    "    \n",
    "    for team in teamInfo[\"teams\"]:\n",
    "        if team[\"id\"] == teamID:\n",
    "            return team[\"name\"]\n",
    "        \n",
    "    return (\"Could not match team ID to name\")"
   ]
  },
  {
   "cell_type": "code",
   "execution_count": 35,
   "metadata": {},
   "outputs": [],
   "source": [
    "#Runs the prediction. The argument is a list of the schedule .json file and \n",
    "# the teamInfo with GF ranking .json file to be parsed in. Prints the\n",
    "#resulting predictions in formatted strings.\n",
    "\n",
    "def main(args):\n",
    "    \n",
    "    with open (args[0], 'r') as f:\n",
    "        matchday = json.load(f)\n",
    "    \n",
    "    with open (args[1], 'r') as g:\n",
    "        teamInfo = json.load(g)\n",
    "    \n",
    "    for p in doTableBotPredict(matchday, teamInfo):\n",
    "        print (\"%s\" % lookupInfo(p, teamInfo))\n",
    "    "
   ]
  },
  {
   "cell_type": "code",
   "execution_count": null,
   "metadata": {},
   "outputs": [],
   "source": [
    "#If run as a standalone script. Note the argv[1:] skips the first argument which is the script name\n",
    "\n",
    "if __name__==\"__main__\":\n",
    "    main(sys.argv[1:])\n",
    "    \n",
    "    "
   ]
  }
 ],
 "metadata": {
  "kernelspec": {
   "display_name": "Python 3",
   "language": "python",
   "name": "python3"
  },
  "language_info": {
   "codemirror_mode": {
    "name": "ipython",
    "version": 3
   },
   "file_extension": ".py",
   "mimetype": "text/x-python",
   "name": "python",
   "nbconvert_exporter": "python",
   "pygments_lexer": "ipython3",
   "version": "3.7.3"
  }
 },
 "nbformat": 4,
 "nbformat_minor": 2
}
