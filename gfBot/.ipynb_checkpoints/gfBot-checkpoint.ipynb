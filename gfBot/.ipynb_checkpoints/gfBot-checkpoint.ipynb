{
 "cells": [
  {
   "cell_type": "code",
   "execution_count": 4,
   "metadata": {},
   "outputs": [],
   "source": [
    "import json\n",
    "import sys"
   ]
  },
  {
   "cell_type": "code",
   "execution_count": 5,
   "metadata": {},
   "outputs": [],
   "source": [
    "with open ('teamInfo.json', 'r') as f:\n",
    "    test=json.load(f)\n",
    "    "
   ]
  },
  {
   "cell_type": "code",
   "execution_count": 7,
   "metadata": {},
   "outputs": [
    {
     "name": "stdout",
     "output_type": "stream",
     "text": [
      "Name: Liverpool FC\n"
     ]
    }
   ],
   "source": [
    "for t in test[\"rankings\"]:\n",
    "    if t[\"id\"]==64:\n",
    "        print (\"Name: %s\" % t[\"name\"])"
   ]
  },
  {
   "cell_type": "code",
   "execution_count": 8,
   "metadata": {},
   "outputs": [],
   "source": [
    "#Returns a single teamID of the higher ranked team in the GF rankings.\n",
    "#Takes a pair of teamIDs and the lookup table of ID, ranking (teamInfo.json)\n",
    "\n",
    "def bestGfTeam (teamIDs, teamInfo):\n",
    "    homeRank=-1; awayRank=-1\n",
    "    for team in teamInfo['teams']:\n",
    "        if team['id'] == teamIDs[0]:\n",
    "            homeRank = team['gf_position']\n",
    "        elif team['id'] == teamIDs[1]:\n",
    "            awayRank = team['gf_position']\n",
    "    \n",
    "    if(homeRank < 0 or awayRank < 0):\n",
    "            return \"Unable to grab points for one or both teams\"\n",
    "    \n",
    "    \n",
    "    if(homeRank < awayRank):\n",
    "        return (teamIDs[0])\n",
    "    else:\n",
    "        return (teamIDs[1])"
   ]
  },
  {
   "cell_type": "code",
   "execution_count": 7,
   "metadata": {},
   "outputs": [],
   "source": [
    "#Takes the schedule and teamInfo parsed dictionaries. Runs through the schedule, pulling out team-ids and running the\n",
    "#bestGfTeam function to return the higher team in the GF rankings. Returns a list of teamIDs from the iterated bestestTeam function.\n",
    "\n",
    "def doTableBotPredict(schedule, teamInfo):\n",
    "    \n",
    "    predictions=[]\n",
    "    \n",
    "    for match in schedule['matches']:\n",
    "        predictions.append(\n",
    "            besGfTeam((match['homeTeam']['id'], \n",
    "                         match['awayTeam']['id']), teamInfo)\n",
    "                            )\n",
    "    \n",
    "    return predictions"
   ]
  },
  {
   "cell_type": "code",
   "execution_count": 6,
   "metadata": {},
   "outputs": [],
   "source": [
    "def lookupInfo(teamID, teamInfo):\n",
    "    \n",
    "    for team in teamInfo[\"teams\"]:\n",
    "        if team[\"id\"] == teamID:\n",
    "            return team[\"name\"]\n",
    "        \n",
    "    return (\"Could not match team ID to name\")"
   ]
  },
  {
   "cell_type": "code",
   "execution_count": 10,
   "metadata": {},
   "outputs": [],
   "source": [
    "#Runs the prediction. The argument is a list of the schedule .json file and \n",
    "# the teamInfo with GF ranking .json file to be parsed in. Prints the\n",
    "#resulting predictions in formatted strings.\n",
    "\n",
    "def main(args):\n",
    "    \n",
    "    with open (args[0], 'r') as f:\n",
    "        matchday = json.load(f)\n",
    "    \n",
    "    with open (args[1], 'r') as g:\n",
    "        teamInfo = json.load(g)\n",
    "    \n",
    "    for p in doTableBotPredict(matchday, teamInfo):\n",
    "        print (\"%s says the GF\" % lookupInfo(p[0]))\n",
    "    "
   ]
  },
  {
   "cell_type": "code",
   "execution_count": 5,
   "metadata": {},
   "outputs": [],
   "source": [
    "with open ('8.matchday', 'r') as f:\n",
    "        matchday = json.load(f)\n",
    "    \n",
    "with open ('teamInfo.json', 'r') as g:\n",
    "        teamInfo = json.load(g)"
   ]
  },
  {
   "cell_type": "code",
   "execution_count": 12,
   "metadata": {},
   "outputs": [
    {
     "ename": "TypeError",
     "evalue": "expected str, bytes or os.PathLike object, not dict",
     "output_type": "error",
     "traceback": [
      "\u001b[0;31m---------------------------------------------------------------------------\u001b[0m",
      "\u001b[0;31mTypeError\u001b[0m                                 Traceback (most recent call last)",
      "\u001b[0;32m<ipython-input-12-b3ccab84a551>\u001b[0m in \u001b[0;36m<module>\u001b[0;34m\u001b[0m\n\u001b[0;32m----> 1\u001b[0;31m \u001b[0mmain\u001b[0m\u001b[0;34m(\u001b[0m\u001b[0;34m(\u001b[0m\u001b[0mmatchday\u001b[0m\u001b[0;34m,\u001b[0m \u001b[0mteamInfo\u001b[0m\u001b[0;34m)\u001b[0m\u001b[0;34m)\u001b[0m\u001b[0;34m\u001b[0m\u001b[0;34m\u001b[0m\u001b[0m\n\u001b[0m",
      "\u001b[0;32m<ipython-input-10-edd9209b5d05>\u001b[0m in \u001b[0;36mmain\u001b[0;34m(args)\u001b[0m\n\u001b[1;32m      5\u001b[0m \u001b[0;32mdef\u001b[0m \u001b[0mmain\u001b[0m\u001b[0;34m(\u001b[0m\u001b[0margs\u001b[0m\u001b[0;34m)\u001b[0m\u001b[0;34m:\u001b[0m\u001b[0;34m\u001b[0m\u001b[0;34m\u001b[0m\u001b[0m\n\u001b[1;32m      6\u001b[0m \u001b[0;34m\u001b[0m\u001b[0m\n\u001b[0;32m----> 7\u001b[0;31m     \u001b[0;32mwith\u001b[0m \u001b[0mopen\u001b[0m \u001b[0;34m(\u001b[0m\u001b[0margs\u001b[0m\u001b[0;34m[\u001b[0m\u001b[0;36m0\u001b[0m\u001b[0;34m]\u001b[0m\u001b[0;34m,\u001b[0m \u001b[0;34m'r'\u001b[0m\u001b[0;34m)\u001b[0m \u001b[0;32mas\u001b[0m \u001b[0mf\u001b[0m\u001b[0;34m:\u001b[0m\u001b[0;34m\u001b[0m\u001b[0;34m\u001b[0m\u001b[0m\n\u001b[0m\u001b[1;32m      8\u001b[0m         \u001b[0mmatchday\u001b[0m \u001b[0;34m=\u001b[0m \u001b[0mjson\u001b[0m\u001b[0;34m.\u001b[0m\u001b[0mload\u001b[0m\u001b[0;34m(\u001b[0m\u001b[0mf\u001b[0m\u001b[0;34m)\u001b[0m\u001b[0;34m\u001b[0m\u001b[0;34m\u001b[0m\u001b[0m\n\u001b[1;32m      9\u001b[0m \u001b[0;34m\u001b[0m\u001b[0m\n",
      "\u001b[0;31mTypeError\u001b[0m: expected str, bytes or os.PathLike object, not dict"
     ]
    }
   ],
   "source": [
    "main((matchday, teamInfo))"
   ]
  },
  {
   "cell_type": "code",
   "execution_count": null,
   "metadata": {},
   "outputs": [],
   "source": [
    "#If run as a standalone script. Note the argv[1:] skips the first argument which is the script name\n",
    "\n",
    "if __name__==\"__main__\":\n",
    "    main(sys.argv[1:])\n",
    "    \n",
    "    "
   ]
  }
 ],
 "metadata": {
  "kernelspec": {
   "display_name": "Python 3",
   "language": "python",
   "name": "python3"
  },
  "language_info": {
   "codemirror_mode": {
    "name": "ipython",
    "version": 3
   },
   "file_extension": ".py",
   "mimetype": "text/x-python",
   "name": "python",
   "nbconvert_exporter": "python",
   "pygments_lexer": "ipython3",
   "version": "3.7.3"
  }
 },
 "nbformat": 4,
 "nbformat_minor": 2
}
