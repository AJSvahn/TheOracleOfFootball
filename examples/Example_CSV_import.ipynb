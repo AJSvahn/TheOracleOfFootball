{
 "cells": [
  {
   "cell_type": "code",
   "execution_count": 15,
   "metadata": {},
   "outputs": [],
   "source": [
    "import csv\n",
    "import pandas"
   ]
  },
  {
   "cell_type": "code",
   "execution_count": 17,
   "metadata": {},
   "outputs": [
    {
     "name": "stdout",
     "output_type": "stream",
     "text": [
      "65 : Manchester City\n",
      "1044 : Bournemouth\n",
      "64 : Liverpool\n",
      "338 : Leicester\n",
      "73 : Tottenham\n",
      "68 : Norwich\n",
      "328 : Burnley\n",
      "76 : Wolverhampton Wanderers\n",
      "57 : Arsenal\n",
      "61 : Chelsea\n",
      "563 : West Ham\n",
      "356 : Sheffield United\n",
      "58 : Aston Villa\n",
      "66 : Manchester United\n",
      "62 : Everton\n",
      "397 : Brighton\n",
      "354 : Crystal Palace\n",
      "67 : Newcastle United\n",
      "340 : Southampton\n",
      "346 : Watford\n"
     ]
    }
   ],
   "source": [
    "with open ('xG_191003.csv', 'r') as csv_in:\n",
    "    csv_read = csv.DictReader(csv_in)\n",
    "    \n",
    "    for team in csv_read:\n",
    "        print (\"%d : %s\" %(int(team[\"ID\"], 10), team[\"Name\"]))\n",
    "                                "
   ]
  },
  {
   "cell_type": "code",
   "execution_count": 39,
   "metadata": {
    "scrolled": true
   },
   "outputs": [
    {
     "name": "stdout",
     "output_type": "stream",
     "text": [
      "65: 0.17\n",
      "1044: 0.16\n",
      "64: 0.15\n",
      "338: 0.14\n",
      "73: 0.13\n",
      "68: 0.13\n",
      "328: 0.13\n",
      "76: 0.12\n",
      "57: 0.11\n",
      "61: 0.11\n",
      "563: 0.11\n",
      "356: 0.1\n",
      "58: 0.09\n",
      "66: 0.07\n",
      "62: 0.07\n",
      "397: 0.06\n",
      "354: 0.06\n",
      "67: 0.06\n",
      "340: 0.06\n"
     ]
    }
   ],
   "source": [
    "pandaFrame = pandas.read_csv('xG_191003.csv')\n",
    "len(pandaFrame)\n",
    "\n",
    "for x in range(0, len(pandaFrame)):\n",
    "    print(\"%d: %s: %s\" % (pandaFrame[\"ID\"][x], pandaFrame[\"Total xG\"][x]))"
   ]
  },
  {
   "cell_type": "code",
   "execution_count": null,
   "metadata": {},
   "outputs": [],
   "source": []
  },
  {
   "cell_type": "code",
   "execution_count": null,
   "metadata": {},
   "outputs": [],
   "source": []
  }
 ],
 "metadata": {
  "kernelspec": {
   "display_name": "Python 3",
   "language": "python",
   "name": "python3"
  },
  "language_info": {
   "codemirror_mode": {
    "name": "ipython",
    "version": 3
   },
   "file_extension": ".py",
   "mimetype": "text/x-python",
   "name": "python",
   "nbconvert_exporter": "python",
   "pygments_lexer": "ipython3",
   "version": "3.7.3"
  }
 },
 "nbformat": 4,
 "nbformat_minor": 2
}
