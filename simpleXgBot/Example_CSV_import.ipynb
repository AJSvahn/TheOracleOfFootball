{
 "cells": [
  {
   "cell_type": "code",
   "execution_count": 1,
   "metadata": {},
   "outputs": [],
   "source": [
    "import csv\n",
    "import pandas"
   ]
  },
  {
   "cell_type": "code",
   "execution_count": 17,
   "metadata": {},
   "outputs": [
    {
     "name": "stdout",
     "output_type": "stream",
     "text": [
      "65 : Manchester City\n",
      "1044 : Bournemouth\n",
      "64 : Liverpool\n",
      "338 : Leicester\n",
      "73 : Tottenham\n",
      "68 : Norwich\n",
      "328 : Burnley\n",
      "76 : Wolverhampton Wanderers\n",
      "57 : Arsenal\n",
      "61 : Chelsea\n",
      "563 : West Ham\n",
      "356 : Sheffield United\n",
      "58 : Aston Villa\n",
      "66 : Manchester United\n",
      "62 : Everton\n",
      "397 : Brighton\n",
      "354 : Crystal Palace\n",
      "67 : Newcastle United\n",
      "340 : Southampton\n",
      "346 : Watford\n"
     ]
    }
   ],
   "source": [
    "with open ('xG_191003.csv', 'r') as csv_in:\n",
    "    csv_read = csv.DictReader(csv_in)\n",
    "    \n",
    "    for team in csv_read:\n",
    "        print (\"%d : %s\" %(int(team[\"ID\"], 10), team[\"Name\"]))\n",
    "                                "
   ]
  },
  {
   "cell_type": "code",
   "execution_count": 4,
   "metadata": {},
   "outputs": [
    {
     "name": "stdout",
     "output_type": "stream",
     "text": [
      "65: Manchester City: past=0.135000 : current=0.167000 \n",
      "1044: Bournemouth: past=0.110000 : current=0.160000 \n",
      "64: Liverpool: past=0.143000 : current=0.150000 \n",
      "338: Leicester: past=0.089000 : current=0.143000 \n",
      "73: Tottenham: past=0.117000 : current=0.134000 \n",
      "68: Norwich: past=0.131000 : current=0.130000 \n",
      "328: Burnley: past=0.119000 : current=0.128000 \n",
      "76: Wolverhampton Wanderers: past=0.090000 : current=0.116000 \n",
      "57: Arsenal: past=0.148000 : current=0.115000 \n",
      "61: Chelsea: past=0.096000 : current=0.108000 \n",
      "563: West Ham: past=0.107000 : current=0.106000 \n",
      "356: Sheffield United: past=0.135000 : current=0.101000 \n",
      "58: Aston Villa: past=0.125000 : current=0.094000 \n",
      "66: Manchester United: past=0.106000 : current=0.071000 \n",
      "62: Everton: past=0.104000 : current=0.066000 \n",
      "397: Brighton: past=0.081000 : current=0.065000 \n",
      "354: Crystal Palace: past=0.083000 : current=0.064000 \n",
      "67: Newcastle United: past=0.092000 : current=0.063000 \n",
      "340: Southampton: past=0.085000 : current=0.062000 \n"
     ]
    }
   ],
   "source": [
    "pandaFrame = pandas.read_csv('xG_input_gw8.csv')\n",
    "\n",
    "for x in range(0, len(pandaFrame)-1):\n",
    "    print(\"%d: %s: past=%f : current=%f \" % \n",
    "                          (pandaFrame[\"id\"][x], \n",
    "                          pandaFrame[\"name\"][x], \n",
    "                          pandaFrame[\"past_xG\"][x],\n",
    "                          pandaFrame[\"current_xG\"][x]))"
   ]
  },
  {
   "cell_type": "code",
   "execution_count": null,
   "metadata": {},
   "outputs": [],
   "source": []
  },
  {
   "cell_type": "code",
   "execution_count": null,
   "metadata": {},
   "outputs": [],
   "source": []
  }
 ],
 "metadata": {
  "kernelspec": {
   "display_name": "Python 3",
   "language": "python",
   "name": "python3"
  },
  "language_info": {
   "codemirror_mode": {
    "name": "ipython",
    "version": 3
   },
   "file_extension": ".py",
   "mimetype": "text/x-python",
   "name": "python",
   "nbconvert_exporter": "python",
   "pygments_lexer": "ipython3",
   "version": "3.7.3"
  }
 },
 "nbformat": 4,
 "nbformat_minor": 2
}
