{
 "cells": [
  {
   "cell_type": "code",
   "execution_count": 2,
   "metadata": {},
   "outputs": [],
   "source": [
    "import sys\n",
    "import pandas\n",
    "import json\n",
    "import csv"
   ]
  },
  {
   "cell_type": "code",
   "execution_count": 61,
   "metadata": {},
   "outputs": [],
   "source": [
    "#Returns an integer code of the prediction, 0= home team, 2=away team, 1= draw.\n",
    "#Takes a pair of teamIDs and the lookup table of ID, ranking (teamInfo.json)\n",
    "\n",
    "def bestXgTeam (teamIDs, xG_in, matchday):\n",
    "    homeXg=-1; awayXg=-1\n",
    "    totalMatches=38\n",
    "    for x in range(0, len(xG_in)):\n",
    "        if xG_in['id'][x] == teamIDs[0]:\n",
    "            homeXg = ( ( (1 - (matchday / totalMatches) ) * xG_in['past_xG'][x]) +\n",
    "                        (matchday / totalMatches) * xG_in['current_xG'][x])\n",
    "        elif xG_in['id'][x] == teamIDs[1]:\n",
    "            awayXg = (((1 - (matchday / totalMatches)) * xG_in['past_xG'][x]) +\n",
    "                        (matchday / totalMatches) * xG_in['current_xG'][x])\n",
    "    \n",
    "    if(homeXg < 0 or awayXg < 0):\n",
    "            return \"Unable to grab xG for one or both teams\"\n",
    "    \n",
    "    \n",
    "    if(abs(homeXg-awayXg) <= 0.005 ):\n",
    "        return 1\n",
    "        \n",
    "    \n",
    "    if(homeXg > awayXg):\n",
    "        return 0\n",
    "    else:\n",
    "        return 2"
   ]
  },
  {
   "cell_type": "code",
   "execution_count": 1,
   "metadata": {},
   "outputs": [],
   "source": [
    "#Takes the schedule, teamInfo parsed dictionaries (JSON) and the xG input (CSV). Runs through the schedule, pulling out team-ids and running the\n",
    "#bestXgTeam function to return the higher wieghted xGteam. Returns a list of teamIDs and integer prediction code.\n",
    "\n",
    "def doSimpleXgPredict(schedule, xG_in):\n",
    "    \n",
    "    predictions=[]\n",
    "    matchday=int(schedule[\"filters\"][\"matchday\"])\n",
    "    for match in schedule['matches']:\n",
    "        predictions.append( (match['homeTeam']['id'],\n",
    "                             match['awayTeam']['id'],\n",
    "                             bestXgTeam((match['homeTeam']['id'], \n",
    "                                         match['awayTeam']['id']), xG_in, matchday)\n",
    "                            ))\n",
    "    \n",
    "    return predictions"
   ]
  },
  {
   "cell_type": "code",
   "execution_count": 8,
   "metadata": {},
   "outputs": [],
   "source": [
    "def main(args):\n",
    "    \n",
    "    with open (args[0], 'r') as f:\n",
    "        matchday = json.load(f)\n",
    "    \n",
    "    xG_in = pandas.read_csv(args[1])\n",
    "    \n",
    "    day = args[2]\n",
    "    \n",
    "    writer = csv.writer(open ( day+'.predict', 'w'), delimiter=',', lineterminator='\\n')\n",
    "    writer.writerow(['homeTeam', 'awayTeam', 'predict'])\n",
    "    for p in doSimpleXgPredict(matchday, xG_in): #iterates through list of teamIDs and returns team name from teamInfo\n",
    "        writer.writerow(p)"
   ]
  },
  {
   "cell_type": "code",
   "execution_count": null,
   "metadata": {},
   "outputs": [],
   "source": [
    "#If run as a standalone script. Note the argv[1:] skips the first argument which is the script name\n",
    "\n",
    "if __name__==\"__main__\":\n",
    "    main(sys.argv[1:])\n",
    "    "
   ]
  },
  {
   "cell_type": "code",
   "execution_count": null,
   "metadata": {},
   "outputs": [],
   "source": []
  }
 ],
 "metadata": {
  "kernelspec": {
   "display_name": "Python 3",
   "language": "python",
   "name": "python3"
  },
  "language_info": {
   "codemirror_mode": {
    "name": "ipython",
    "version": 3
   },
   "file_extension": ".py",
   "mimetype": "text/x-python",
   "name": "python",
   "nbconvert_exporter": "python",
   "pygments_lexer": "ipython3",
   "version": "3.7.3"
  }
 },
 "nbformat": 4,
 "nbformat_minor": 2
}
