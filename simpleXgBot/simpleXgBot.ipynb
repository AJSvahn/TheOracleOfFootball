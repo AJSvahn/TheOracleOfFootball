{
 "cells": [
  {
   "cell_type": "code",
   "execution_count": 2,
   "metadata": {},
   "outputs": [],
   "source": [
    "import sys\n",
    "import pandas\n",
    "import json"
   ]
  },
  {
   "cell_type": "code",
   "execution_count": 62,
   "metadata": {},
   "outputs": [
    {
     "data": {
      "text/plain": [
       "0"
      ]
     },
     "execution_count": 62,
     "metadata": {},
     "output_type": "execute_result"
    }
   ],
   "source": [
    "#some code for testing\n",
    "#with open (\"2.matchday\", 'r') as f:\n",
    "        #matchday = json.load(f)\n",
    "    \n",
    "#with open (\"teamInfo.link\", 'r') as g:\n",
    "        #teamInfo = json.load(g)\n",
    "       \n",
    "#xG_in = pandas.read_csv(\"xG_input_gw8.csv\")\n",
    "\n",
    "#bestXgTeam((397, 354), xG_in, 2)"
   ]
  },
  {
   "cell_type": "code",
   "execution_count": null,
   "metadata": {},
   "outputs": [],
   "source": []
  },
  {
   "cell_type": "code",
   "execution_count": 48,
   "metadata": {},
   "outputs": [
    {
     "data": {
      "text/plain": [
       "(76, 0.10642105263157894, 0.10542105263157894)"
      ]
     },
     "execution_count": 48,
     "metadata": {},
     "output_type": "execute_result"
    }
   ],
   "source": []
  },
  {
   "cell_type": "code",
   "execution_count": 61,
   "metadata": {},
   "outputs": [],
   "source": [
    "#Returns a single teamID of the higher ranked team in the GF rankings.\n",
    "#Takes a pair of teamIDs and the lookup table of ID, ranking (teamInfo.json)\n",
    "\n",
    "def bestXgTeam (teamIDs, xG_in, matchday):\n",
    "    homeXg=-1; awayXg=-1\n",
    "    totalMatches=38\n",
    "    for x in range(0, len(xG_in)):\n",
    "        if xG_in['id'][x] == teamIDs[0]:\n",
    "            homeXg = ( ( (1 - (matchday / totalMatches) ) * xG_in['past_xG'][x]) +\n",
    "                        (matchday / totalMatches) * xG_in['current_xG'][x])\n",
    "        elif xG_in['id'][x] == teamIDs[1]:\n",
    "            awayXg = (((1 - (matchday / totalMatches)) * xG_in['past_xG'][x]) +\n",
    "                        (matchday / totalMatches) * xG_in['current_xG'][x])\n",
    "    \n",
    "    if(homeXg < 0 or awayXg < 0):\n",
    "            return \"Unable to grab xG for one or both teams\"\n",
    "    \n",
    "    \n",
    "    if(abs(homeXg-awayXg) <= 0.005 ):\n",
    "        return(0)\n",
    "        \n",
    "    \n",
    "    if(homeXg > awayXg):\n",
    "        return (teamIDs[0])\n",
    "    else:\n",
    "        return (teamIDs[1])"
   ]
  },
  {
   "cell_type": "code",
   "execution_count": 6,
   "metadata": {},
   "outputs": [],
   "source": [
    "#Takes the schedule, teamInfo parsed dictionaries (JSON) and the xG input (CSV). Runs through the schedule, pulling out team-ids and running the\n",
    "#bestXgTeam function to return the higher wieghted xGteam. Returns a list of teamIDs.\n",
    "\n",
    "def doSimpleXgPredict(schedule, xG_in):\n",
    "    \n",
    "    predictions=[]\n",
    "    matchday=int(schedule[\"filters\"][\"matchday\"])\n",
    "    for match in schedule['matches']:\n",
    "        predictions.append(\n",
    "            bestXgTeam((match['homeTeam']['id'], \n",
    "                         match['awayTeam']['id']), xG_in, matchday)\n",
    "                            )\n",
    "    \n",
    "    return predictions"
   ]
  },
  {
   "cell_type": "code",
   "execution_count": 4,
   "metadata": {},
   "outputs": [],
   "source": [
    "def lookupInfo(teamID, teamInfo):\n",
    "    \n",
    "    if (teamID == 0):\n",
    "        return (\"Draw\")\n",
    "    \n",
    "    for team in teamInfo[\"teams\"]:\n",
    "        if team[\"id\"] == teamID:\n",
    "            return team[\"name\"]\n",
    "        \n",
    "    return (\"Could not match team ID to name\")"
   ]
  },
  {
   "cell_type": "code",
   "execution_count": 7,
   "metadata": {},
   "outputs": [],
   "source": [
    "def main(args):\n",
    "    \n",
    "    with open (args[0], 'r') as f:\n",
    "        matchday = json.load(f)\n",
    "    \n",
    "    with open (args[1], 'r') as g:\n",
    "        teamInfo = json.load(g)\n",
    "        \n",
    "    xG_in = pandas.read_csv(args[2])\n",
    "    \n",
    "    \n",
    "    for p in doSimpleXgPredict(matchday, xG_in):\n",
    "        print (\"%s\" % lookupInfo(p, teamInfo))"
   ]
  },
  {
   "cell_type": "code",
   "execution_count": null,
   "metadata": {},
   "outputs": [],
   "source": [
    "#If run as a standalone script. Note the argv[1:] skips the first argument which is the script name\n",
    "\n",
    "if __name__==\"__main__\":\n",
    "    main(sys.argv[1:])\n",
    "    "
   ]
  }
 ],
 "metadata": {
  "kernelspec": {
   "display_name": "Python 3",
   "language": "python",
   "name": "python3"
  },
  "language_info": {
   "codemirror_mode": {
    "name": "ipython",
    "version": 3
   },
   "file_extension": ".py",
   "mimetype": "text/x-python",
   "name": "python",
   "nbconvert_exporter": "python",
   "pygments_lexer": "ipython3",
   "version": "3.7.3"
  }
 },
 "nbformat": 4,
 "nbformat_minor": 2
}
