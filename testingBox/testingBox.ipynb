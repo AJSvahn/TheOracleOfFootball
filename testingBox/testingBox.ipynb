{
 "cells": [
  {
   "cell_type": "code",
   "execution_count": 48,
   "metadata": {},
   "outputs": [],
   "source": [
    "import json\n",
    "import pandas\n",
    "import sys"
   ]
  },
  {
   "cell_type": "code",
   "execution_count": null,
   "metadata": {},
   "outputs": [],
   "source": [
    "#with open (\"../jsonOutput/2.matchday\", 'r') as f:\n",
    "    #matchday = json.load(f)\n",
    "\n",
    "#predictions = pandas.read_csv('gw2_100.csv')\n",
    "\n",
    "#for x in range(0, len(pandaFrame)-1):\n",
    " #   print(\"%d: %s: %s\" % (pandaFrame[\"ID\"][x], pandaFrame[\"Total xG\"][x]))"
   ]
  },
  {
   "cell_type": "code",
   "execution_count": null,
   "metadata": {},
   "outputs": [],
   "source": [
    "#Takes a matchday file requested after the day, with results. Fetches the winner and home and away ids. Converts the\n",
    "#result text into integer code. 0 = home win, 1 = draw, 2 = away win. Returns an array of triples- (homeId, awayId, result). \n",
    "\n",
    "#def getMatchdayResults(matchday):\n",
    "\n",
    "#    results=[]\n",
    "\n",
    "#    for match in matchday[\"matches\"]:\n",
    "#        winner = match[\"score\"][\"winner\"]\n",
    "        #score_home = match[\"score\"][\"fullTime\"][\"homeTeam\"] #Not required yet, may be useful when using to run tip scoring\n",
    "        #score_away = match[\"score\"][\"fullTime\"][\"awayTeam\"]\n",
    "#        home_id = int(match[\"homeTeam\"][\"id\"])\n",
    "#        away_id = int(match[\"awayTeam\"][\"id\"])\n",
    "#        if(winner==\"HOME_TEAM\"):\n",
    "#            results.append((home_id, away_id, 0))\n",
    "#        elif(winner==\"AWAY_TEAM\"):\n",
    "#            results.append((home_id, away_id, 2))\n",
    "#        else:\n",
    "#            results.append((home_id, away_id, 1))\n",
    "                       \n",
    "#    return results"
   ]
  },
  {
   "cell_type": "code",
   "execution_count": null,
   "metadata": {},
   "outputs": [],
   "source": [
    "#Takes an array of predictions and a matchday file requested after the day, with results. Fetches the winner and home and away ids that match the\n",
    "#current prediction. The prediction use the integer code 0 = home win, 1 = draw, 2 = away win. \n",
    "#Returns an array of 1's and 0's indicating a correct or incorrect prediction for each match.\n",
    "\n",
    "def matchdayCompare(predictionArray, matchday):\n",
    "\n",
    "    results=[]\n",
    "    \n",
    "    for predict in predictionArray:                #iterates through predictions\n",
    "        for match in matchday[\"matches\"]:          #iterates through matches\n",
    "            if (match[\"homeTeam\"][\"id\"] == predict[0]):\n",
    "                winner = match[\"score\"][\"winner\"]\n",
    "                #score_home = match[\"score\"][\"fullTime\"][\"homeTeam\"] #Not required yet, may be useful when using to run tip scoring\n",
    "                #score_away = match[\"score\"][\"fullTime\"][\"awayTeam\"]\n",
    "                if(winner==\"HOME_TEAM\" and predict[2]==0):\n",
    "                    results.append(1)\n",
    "                elif(winner==\"AWAY_TEAM\" and predict[2]==2):\n",
    "                    results.append(1)\n",
    "                elif(winner==\"DRAW\" and predict[2]==1):\n",
    "                    results.append(1)\n",
    "                else:\n",
    "                    results.append(0)\n",
    "                       \n",
    "    return results"
   ]
  },
  {
   "cell_type": "code",
   "execution_count": null,
   "metadata": {},
   "outputs": [],
   "source": [
    "#for x in matchdayCompare(convertPredictionsToArray(predictions), matchday):\n",
    "    #print (x)"
   ]
  },
  {
   "cell_type": "code",
   "execution_count": 53,
   "metadata": {},
   "outputs": [],
   "source": [
    "def convertPredictionsToArray (predictionsCSV):\n",
    "\n",
    "    predict_array=[]\n",
    "\n",
    "    for x in range(0, len(predictionsCSV)):\n",
    "        predict_array.append( (predictionsCSV[\"homeTeam\"][x], predictionsCSV[\"awayTeam\"][x], predictionsCSV[\"predict\"][x]))\n",
    "\n",
    "    return predict_array"
   ]
  },
  {
   "cell_type": "code",
   "execution_count": null,
   "metadata": {},
   "outputs": [],
   "source": [
    "#for x in convertPredictionsToArray(predictions):\n",
    "#    print (x)"
   ]
  },
  {
   "cell_type": "code",
   "execution_count": 56,
   "metadata": {},
   "outputs": [],
   "source": [
    "def lookupInfo(teamID, teamInfo):\n",
    "    \n",
    "    if (teamID == 0):\n",
    "        return (\"Draw\")\n",
    "    \n",
    "    for team in teamInfo[\"teams\"]:\n",
    "        if team[\"id\"] == teamID:\n",
    "            return team[\"name\"]\n",
    "        \n",
    "    return (\"Could not match team ID to name\")"
   ]
  },
  {
   "cell_type": "code",
   "execution_count": 72,
   "metadata": {},
   "outputs": [],
   "source": [
    "def main(args):\n",
    "    \n",
    "    with open (args[0], 'r') as f:\n",
    "        matchday = json.load(f)\n",
    "    \n",
    "    picks = pandas.read_csv(args[1])\n",
    "    \n",
    "    print(\"%i\" % sum(matchdayCompare(convertPredictionsToArray(picks), matchday)))       \n"
   ]
  },
  {
   "cell_type": "code",
   "execution_count": 63,
   "metadata": {},
   "outputs": [
    {
     "ename": "NameError",
     "evalue": "name 'main' is not defined",
     "output_type": "error",
     "traceback": [
      "\u001b[0;31m---------------------------------------------------------------------------\u001b[0m",
      "\u001b[0;31mNameError\u001b[0m                                 Traceback (most recent call last)",
      "\u001b[0;32m<ipython-input-63-67f8721f8445>\u001b[0m in \u001b[0;36m<module>\u001b[0;34m\u001b[0m\n\u001b[1;32m      2\u001b[0m \u001b[0;34m\u001b[0m\u001b[0m\n\u001b[1;32m      3\u001b[0m \u001b[0;32mif\u001b[0m \u001b[0m__name__\u001b[0m\u001b[0;34m==\u001b[0m\u001b[0;34m\"__main__\"\u001b[0m\u001b[0;34m:\u001b[0m\u001b[0;34m\u001b[0m\u001b[0;34m\u001b[0m\u001b[0m\n\u001b[0;32m----> 4\u001b[0;31m     \u001b[0mmain\u001b[0m\u001b[0;34m(\u001b[0m\u001b[0msys\u001b[0m\u001b[0;34m.\u001b[0m\u001b[0margv\u001b[0m\u001b[0;34m[\u001b[0m\u001b[0;36m1\u001b[0m\u001b[0;34m:\u001b[0m\u001b[0;34m]\u001b[0m\u001b[0;34m)\u001b[0m\u001b[0;34m\u001b[0m\u001b[0;34m\u001b[0m\u001b[0m\n\u001b[0m",
      "\u001b[0;31mNameError\u001b[0m: name 'main' is not defined"
     ]
    }
   ],
   "source": [
    "#If run as a standalone script. Note the argv[1:] skips the first argument which is the script name\n",
    "\n",
    "if __name__==\"__main__\":\n",
    "    main(sys.argv[1:])"
   ]
  },
  {
   "cell_type": "code",
   "execution_count": null,
   "metadata": {},
   "outputs": [],
   "source": []
  }
 ],
 "metadata": {
  "kernelspec": {
   "display_name": "Python 3",
   "language": "python",
   "name": "python3"
  },
  "language_info": {
   "codemirror_mode": {
    "name": "ipython",
    "version": 3
   },
   "file_extension": ".py",
   "mimetype": "text/x-python",
   "name": "python",
   "nbconvert_exporter": "python",
   "pygments_lexer": "ipython3",
   "version": "3.7.3"
  }
 },
 "nbformat": 4,
 "nbformat_minor": 2
}
