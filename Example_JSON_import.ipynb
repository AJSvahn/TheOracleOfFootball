{
 "cells": [
  {
   "cell_type": "code",
   "execution_count": 2,
   "metadata": {},
   "outputs": [],
   "source": [
    "import json #library for handling JSON format "
   ]
  },
  {
   "cell_type": "code",
   "execution_count": 1,
   "metadata": {},
   "outputs": [],
   "source": [
    "#create a small JSON array. Format is \"name\": value\n",
    "json_data = '{\"a\": 1, \"b\": 2, \"c\":3, \"d\":4, \"e\":5}'"
   ]
  },
  {
   "cell_type": "code",
   "execution_count": 5,
   "metadata": {},
   "outputs": [],
   "source": [
    "#Converts JSON format text to a dictionary format. NOTE: for\n",
    "#internally generated strings the json.loads command is used.\n",
    "#The json.load command is used for files.\n",
    "parsed_json = (json.loads(json_data))"
   ]
  },
  {
   "cell_type": "code",
   "execution_count": 6,
   "metadata": {
    "scrolled": true
   },
   "outputs": [
    {
     "name": "stdout",
     "output_type": "stream",
     "text": [
      "{\n",
      "    \"a\": 1,\n",
      "    \"b\": 2,\n",
      "    \"c\": 3,\n",
      "    \"d\": 4,\n",
      "    \"e\": 5\n",
      "}\n"
     ]
    }
   ],
   "source": [
    "#Simple print of all data in parsed dict\n",
    "print (json.dumps(parsed_json, indent=4, sort_keys=True))"
   ]
  },
  {
   "cell_type": "code",
   "execution_count": 7,
   "metadata": {},
   "outputs": [],
   "source": [
    "#As above, no difference..just different variable to store it in?\n",
    "loaded_json = json.loads(json_data)"
   ]
  },
  {
   "cell_type": "code",
   "execution_count": 8,
   "metadata": {},
   "outputs": [
    {
     "name": "stdout",
     "output_type": "stream",
     "text": [
      "a: 1\n",
      "b: 2\n",
      "c: 3\n",
      "d: 4\n",
      "e: 5\n"
     ]
    }
   ],
   "source": [
    "#Parsed dict can now be iterated like a python dict.\n",
    "for x in loaded_json:\n",
    "    print(\"%s: %d\" % (x, loaded_json[x]))"
   ]
  },
  {
   "cell_type": "code",
   "execution_count": 12,
   "metadata": {},
   "outputs": [
    {
     "name": "stdout",
     "output_type": "stream",
     "text": [
      "a+1: 2\n"
     ]
    }
   ],
   "source": [
    "#Can be operated upon, e.g.:\n",
    "for x in loaded_json:\n",
    "    if (x==\"a\"):\n",
    "        print(\"%s+1: %d\" % (x, loaded_json[x]+1))"
   ]
  },
  {
   "cell_type": "code",
   "execution_count": 14,
   "metadata": {},
   "outputs": [
    {
     "name": "stdout",
     "output_type": "stream",
     "text": [
      "Debian\n",
      "Ubuntu\n",
      "Fedora\n",
      "CentOS\n",
      "OpenSUSE\n",
      "Arch Linux\n",
      "Gentoo\n"
     ]
    }
   ],
   "source": [
    "#Op\n",
    "with open('test.json', 'r') as f:\n",
    "    test_dict = json.load(f)\n",
    "    \n",
    "for distro in test_dict:\n",
    "    print(\"%s\" % distro['Name'])"
   ]
  },
  {
   "cell_type": "code",
   "execution_count": null,
   "metadata": {},
   "outputs": [],
   "source": []
  }
 ],
 "metadata": {
  "kernelspec": {
   "display_name": "Python 3",
   "language": "python",
   "name": "python3"
  },
  "language_info": {
   "codemirror_mode": {
    "name": "ipython",
    "version": 3
   },
   "file_extension": ".py",
   "mimetype": "text/x-python",
   "name": "python",
   "nbconvert_exporter": "python",
   "pygments_lexer": "ipython3",
   "version": "3.7.3"
  }
 },
 "nbformat": 4,
 "nbformat_minor": 2
}
