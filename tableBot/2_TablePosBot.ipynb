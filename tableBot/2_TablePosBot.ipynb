{
 "cells": [
  {
   "cell_type": "code",
   "execution_count": 6,
   "metadata": {},
   "outputs": [],
   "source": [
    "import json\n",
    "import sys"
   ]
  },
  {
   "cell_type": "code",
   "execution_count": 1,
   "metadata": {},
   "outputs": [],
   "source": [
    "#Returns the team higher in the ladder and the difference in places between the pair.\n",
    "\n",
    "def bestestTeam (teamIDs, standings):\n",
    "    homeName=\"\";   awayName=\"\"; #Clunky, generate a team/ID lookup table to be imported into all bots.\n",
    "    homePoints=-1; awayPoints=-1\n",
    "    for team in standings['standings'][0]['table']:\n",
    "        if team['team']['id'] == teamIDs[0]:\n",
    "            homeName = team['team']['name']\n",
    "            homePoints = team['points']\n",
    "        elif team['team']['id'] == teamIDs[1]:\n",
    "            awayName = team['team']['name']\n",
    "            awayPoints = team['points']\n",
    "    \n",
    "    if(homePoints < 0 or awayPoints < 0):\n",
    "            return \"Unable to grab points for one or both teams\"\n",
    "    \n",
    "    \n",
    "    if(homePoints > awayPoints):\n",
    "        return (homeName, homePoints - awayPoints)\n",
    "    elif(homePoints < awayPoints):\n",
    "        return (awayName, awayPoints - homePoints)\n",
    "    else:\n",
    "        return (\"Draw\", 0)\n",
    "        "
   ]
  },
  {
   "cell_type": "code",
   "execution_count": 8,
   "metadata": {},
   "outputs": [],
   "source": [
    "#Takes the schedule and standing parsed dictionaries. Runs through the schedule, pulling out team-ids and running the\n",
    "#bestestTeam function to return the higher team. Returns a list of pairs returned from the iterated bestestTeam function.\n",
    "#i.e. (Winning team name, points seperating)\n",
    "\n",
    "def doTableBotPredict(schedule, standings):\n",
    "    \n",
    "    predictions=[]\n",
    "    \n",
    "    for match in schedule['matches']:\n",
    "        predictions.append(\n",
    "            bestestTeam((match['homeTeam']['id'], \n",
    "                         match['awayTeam']['id']), standings)\n",
    "                            )\n",
    "    \n",
    "    return predictions\n",
    "        \n",
    "    \n",
    "\n",
    "\n"
   ]
  },
  {
   "cell_type": "code",
   "execution_count": 4,
   "metadata": {},
   "outputs": [],
   "source": [
    "#Runs the prediction. The argument is a list of standings .json file and schedule .json file to be parsed in. Prints the\n",
    "#resulting predictions in formatted strings.\n",
    "\n",
    "def main(args):\n",
    "    \n",
    "    with open (args[0], 'r') as f:\n",
    "        standings = json.load(f)\n",
    "    \n",
    "    with open (args[1], 'r') as g:\n",
    "        schedule = json.load(g)\n",
    "    \n",
    "    for p in doTableBotPredict(schedule,standings):\n",
    "        print (\"%s, %d point(s) seperate the teams\" % (p[0], p[1]))\n",
    "    "
   ]
  },
  {
   "cell_type": "code",
   "execution_count": 7,
   "metadata": {},
   "outputs": [
    {
     "ename": "FileNotFoundError",
     "evalue": "[Errno 2] No such file or directory: '-f'",
     "output_type": "error",
     "traceback": [
      "\u001b[0;31m---------------------------------------------------------------------------\u001b[0m",
      "\u001b[0;31mFileNotFoundError\u001b[0m                         Traceback (most recent call last)",
      "\u001b[0;32m<ipython-input-7-5173397849b0>\u001b[0m in \u001b[0;36m<module>\u001b[0;34m\u001b[0m\n\u001b[1;32m      1\u001b[0m \u001b[0;32mif\u001b[0m \u001b[0m__name__\u001b[0m\u001b[0;34m==\u001b[0m\u001b[0;34m\"__main__\"\u001b[0m\u001b[0;34m:\u001b[0m\u001b[0;34m\u001b[0m\u001b[0;34m\u001b[0m\u001b[0m\n\u001b[0;32m----> 2\u001b[0;31m     \u001b[0mmain\u001b[0m\u001b[0;34m(\u001b[0m\u001b[0msys\u001b[0m\u001b[0;34m.\u001b[0m\u001b[0margv\u001b[0m\u001b[0;34m[\u001b[0m\u001b[0;36m1\u001b[0m\u001b[0;34m:\u001b[0m\u001b[0;34m]\u001b[0m\u001b[0;34m)\u001b[0m\u001b[0;34m\u001b[0m\u001b[0;34m\u001b[0m\u001b[0m\n\u001b[0m\u001b[1;32m      3\u001b[0m \u001b[0;34m\u001b[0m\u001b[0m\n\u001b[1;32m      4\u001b[0m \u001b[0;34m\u001b[0m\u001b[0m\n",
      "\u001b[0;32m<ipython-input-4-701685322ed3>\u001b[0m in \u001b[0;36mmain\u001b[0;34m(args)\u001b[0m\n\u001b[1;32m      1\u001b[0m \u001b[0;32mdef\u001b[0m \u001b[0mmain\u001b[0m\u001b[0;34m(\u001b[0m\u001b[0margs\u001b[0m\u001b[0;34m)\u001b[0m\u001b[0;34m:\u001b[0m\u001b[0;34m\u001b[0m\u001b[0;34m\u001b[0m\u001b[0m\n\u001b[1;32m      2\u001b[0m \u001b[0;34m\u001b[0m\u001b[0m\n\u001b[0;32m----> 3\u001b[0;31m     \u001b[0;32mwith\u001b[0m \u001b[0mopen\u001b[0m \u001b[0;34m(\u001b[0m\u001b[0margs\u001b[0m\u001b[0;34m[\u001b[0m\u001b[0;36m0\u001b[0m\u001b[0;34m]\u001b[0m\u001b[0;34m,\u001b[0m \u001b[0;34m'r'\u001b[0m\u001b[0;34m)\u001b[0m \u001b[0;32mas\u001b[0m \u001b[0mf\u001b[0m\u001b[0;34m:\u001b[0m\u001b[0;34m\u001b[0m\u001b[0;34m\u001b[0m\u001b[0m\n\u001b[0m\u001b[1;32m      4\u001b[0m         \u001b[0mstandings\u001b[0m \u001b[0;34m=\u001b[0m \u001b[0mjson\u001b[0m\u001b[0;34m.\u001b[0m\u001b[0mload\u001b[0m\u001b[0;34m(\u001b[0m\u001b[0mf\u001b[0m\u001b[0;34m)\u001b[0m\u001b[0;34m\u001b[0m\u001b[0;34m\u001b[0m\u001b[0m\n\u001b[1;32m      5\u001b[0m \u001b[0;34m\u001b[0m\u001b[0m\n",
      "\u001b[0;31mFileNotFoundError\u001b[0m: [Errno 2] No such file or directory: '-f'"
     ]
    }
   ],
   "source": [
    "#If run as a standalone script. Note the argv[1:] skips the first argument which is the script name\n",
    "\n",
    "if __name__==\"__main__\":\n",
    "    main(sys.argv[1:])\n",
    "    \n",
    "    "
   ]
  },
  {
   "cell_type": "code",
   "execution_count": null,
   "metadata": {},
   "outputs": [],
   "source": []
  }
 ],
 "metadata": {
  "kernelspec": {
   "display_name": "Python 3",
   "language": "python",
   "name": "python3"
  },
  "language_info": {
   "codemirror_mode": {
    "name": "ipython",
    "version": 3
   },
   "file_extension": ".py",
   "mimetype": "text/x-python",
   "name": "python",
   "nbconvert_exporter": "python",
   "pygments_lexer": "ipython3",
   "version": "3.7.3"
  }
 },
 "nbformat": 4,
 "nbformat_minor": 2
}
