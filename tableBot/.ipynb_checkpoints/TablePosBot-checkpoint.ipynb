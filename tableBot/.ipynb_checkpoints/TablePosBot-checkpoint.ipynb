{
 "cells": [
  {
   "cell_type": "code",
   "execution_count": 6,
   "metadata": {},
   "outputs": [],
   "source": [
    "import json\n",
    "import sys"
   ]
  },
  {
   "cell_type": "code",
   "execution_count": 8,
   "metadata": {},
   "outputs": [
    {
     "data": {
      "text/plain": [
       "'/home/aj/Apps/anaconda3/lib/python3.7/site-packages/ipykernel_launcher.py'"
      ]
     },
     "execution_count": 8,
     "metadata": {},
     "output_type": "execute_result"
    }
   ],
   "source": [
    "sys.argv[0]"
   ]
  },
  {
   "cell_type": "code",
   "execution_count": 6,
   "metadata": {},
   "outputs": [],
   "source": [
    "with open ('jsonOutput/6standings.json', 'r') as f:\n",
    "    standings = json.load(f)"
   ]
  },
  {
   "cell_type": "code",
   "execution_count": 4,
   "metadata": {},
   "outputs": [
    {
     "ename": "FileNotFoundError",
     "evalue": "[Errno 2] No such file or directory: 'jsonOutput/6schedule.json'",
     "output_type": "error",
     "traceback": [
      "\u001b[0;31m---------------------------------------------------------------------------\u001b[0m",
      "\u001b[0;31mFileNotFoundError\u001b[0m                         Traceback (most recent call last)",
      "\u001b[0;32m<ipython-input-4-8751842ceb5f>\u001b[0m in \u001b[0;36m<module>\u001b[0;34m\u001b[0m\n\u001b[0;32m----> 1\u001b[0;31m \u001b[0;32mwith\u001b[0m \u001b[0mopen\u001b[0m \u001b[0;34m(\u001b[0m\u001b[0;34m'jsonOutput/6schedule.json'\u001b[0m\u001b[0;34m,\u001b[0m \u001b[0;34m'r'\u001b[0m\u001b[0;34m)\u001b[0m \u001b[0;32mas\u001b[0m \u001b[0mg\u001b[0m\u001b[0;34m:\u001b[0m\u001b[0;34m\u001b[0m\u001b[0;34m\u001b[0m\u001b[0m\n\u001b[0m\u001b[1;32m      2\u001b[0m     \u001b[0mschedule\u001b[0m \u001b[0;34m=\u001b[0m \u001b[0mjson\u001b[0m\u001b[0;34m.\u001b[0m\u001b[0mload\u001b[0m\u001b[0;34m(\u001b[0m\u001b[0mg\u001b[0m\u001b[0;34m)\u001b[0m\u001b[0;34m\u001b[0m\u001b[0;34m\u001b[0m\u001b[0m\n",
      "\u001b[0;31mFileNotFoundError\u001b[0m: [Errno 2] No such file or directory: 'jsonOutput/6schedule.json'"
     ]
    }
   ],
   "source": [
    "with open ('jsonOutput/6schedule.json', 'r') as g:\n",
    "    schedule = json.load(g)"
   ]
  },
  {
   "cell_type": "code",
   "execution_count": 1,
   "metadata": {},
   "outputs": [],
   "source": [
    "#Pay attention to the nesting of dictionary values.\n",
    "\n",
    "#for team in standings['standings'][0]['table']:\n",
    "#    print(\"%d: %s with ID:%d\" % (team['position'], team['team']['name'], team['team']['id']))"
   ]
  },
  {
   "cell_type": "code",
   "execution_count": 2,
   "metadata": {},
   "outputs": [],
   "source": [
    "#for x in schedule['matches'][0]:\n",
    "#    print(\"%s\" % x)"
   ]
  },
  {
   "cell_type": "code",
   "execution_count": 3,
   "metadata": {},
   "outputs": [],
   "source": [
    "#for match in schedule['matches']:\n",
    "#    print(\"%s vs. %s\" % (match['homeTeam']['name'], match['awayTeam']['name']))"
   ]
  },
  {
   "cell_type": "code",
   "execution_count": 138,
   "metadata": {},
   "outputs": [],
   "source": [
    "#Returns the team higher in the ladder and the difference in places between the pair.\n",
    "\n",
    "def bestestTeam (teamIDs):\n",
    "    homeName=\"\";   awayName=\"\"; #Clunky, generate a team/ID lookup table to be imported into all bots.\n",
    "    homePoints=-1; awayPoints=-1\n",
    "    for team in standings['standings'][0]['table']:\n",
    "        if team['team']['id'] == teamIDs[0]:\n",
    "            homeName = team['team']['name']\n",
    "            homePoints = team['points']\n",
    "        elif team['team']['id'] == teamIDs[1]:\n",
    "            awayName = team['team']['name']\n",
    "            awayPoints = team['points']\n",
    "    \n",
    "    if(homePoints < 0 or awayPoints < 0):\n",
    "            return \"Unable to grab points for one or both teams\"\n",
    "    \n",
    "    \n",
    "    if(homePoints > awayPoints):\n",
    "        return (homeName, homePoints - awayPoints)\n",
    "    elif(homePoints < awayPoints):\n",
    "        return (awayName, awayPoints - homePoints)\n",
    "    else:\n",
    "        return (\"Draw\", 0)\n",
    "        "
   ]
  },
  {
   "cell_type": "code",
   "execution_count": 142,
   "metadata": {},
   "outputs": [],
   "source": [
    "def doPredict():\n",
    "    \n",
    "    predictions=[]\n",
    "    \n",
    "    for match in schedule['matches']:\n",
    "        predictions.append(\n",
    "            bestestTeam((match['homeTeam']['id'], \n",
    "                         match['awayTeam']['id']))\n",
    "                            )\n",
    "            \n",
    "    for p in predictions:\n",
    "        print (\"%s, %d point(s) seperate the teams\" % (p[0], p[1]))\n",
    "        \n",
    "    \n",
    "\n",
    "\n"
   ]
  },
  {
   "cell_type": "code",
   "execution_count": 143,
   "metadata": {},
   "outputs": [
    {
     "name": "stdout",
     "output_type": "stream",
     "text": [
      "Draw, 0 point(s) seperate the teams\n",
      "Draw, 0 point(s) seperate the teams\n",
      "Manchester City FC, 8 point(s) seperate the teams\n",
      "Everton FC, 2 point(s) seperate the teams\n",
      "Norwich City FC, 1 point(s) seperate the teams\n",
      "Brighton & Hove Albion FC, 1 point(s) seperate the teams\n",
      "Draw, 0 point(s) seperate the teams\n",
      "Crystal Palace FC, 4 point(s) seperate the teams\n",
      "Arsenal FC, 4 point(s) seperate the teams\n",
      "Liverpool FC, 7 point(s) seperate the teams\n"
     ]
    }
   ],
   "source": [
    "doPredict()"
   ]
  },
  {
   "cell_type": "code",
   "execution_count": null,
   "metadata": {},
   "outputs": [],
   "source": [
    "\n",
    "    \n",
    "    "
   ]
  }
 ],
 "metadata": {
  "kernelspec": {
   "display_name": "Python 3",
   "language": "python",
   "name": "python3"
  },
  "language_info": {
   "codemirror_mode": {
    "name": "ipython",
    "version": 3
   },
   "file_extension": ".py",
   "mimetype": "text/x-python",
   "name": "python",
   "nbconvert_exporter": "python",
   "pygments_lexer": "ipython3",
   "version": "3.7.3"
  }
 },
 "nbformat": 4,
 "nbformat_minor": 2
}
