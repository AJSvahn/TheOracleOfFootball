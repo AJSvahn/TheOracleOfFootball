{
 "cells": [
  {
   "cell_type": "code",
   "execution_count": 14,
   "metadata": {},
   "outputs": [],
   "source": [
    "import json"
   ]
  },
  {
   "cell_type": "code",
   "execution_count": 30,
   "metadata": {},
   "outputs": [],
   "source": [
    "with open ('../jsonOutput/5.standings', 'r') as f:\n",
    "    standings = json.load(f)"
   ]
  },
  {
   "cell_type": "code",
   "execution_count": 31,
   "metadata": {},
   "outputs": [],
   "source": [
    "with open ('../jsonOutput/5.schedule', 'r') as g:\n",
    "    schedule = json.load(g)"
   ]
  },
  {
   "cell_type": "code",
   "execution_count": 1,
   "metadata": {},
   "outputs": [],
   "source": [
    "#Pay attention to the nesting of dictionary values.\n",
    "\n",
    "#for team in standings['standings'][0]['table']:\n",
    "#    print(\"%d: %s with ID:%d\" % (team['position'], team['team']['name'], team['team']['id']))"
   ]
  },
  {
   "cell_type": "code",
   "execution_count": 2,
   "metadata": {},
   "outputs": [],
   "source": [
    "#for x in schedule['matches'][0]:\n",
    "#    print(\"%s\" % x)"
   ]
  },
  {
   "cell_type": "code",
   "execution_count": 3,
   "metadata": {},
   "outputs": [],
   "source": [
    "#for match in schedule['matches']:\n",
    "#    print(\"%s vs. %s\" % (match['homeTeam']['name'], match['awayTeam']['name']))"
   ]
  },
  {
   "cell_type": "code",
   "execution_count": 21,
   "metadata": {},
   "outputs": [],
   "source": [
    "#Returns the team higher in the ladder and the difference in places between the pair.\n",
    "\n",
    "def bestestTeam (teamIDs):\n",
    "    homeName=\"\";   awayName=\"\"; #Clunky, generate a team/ID lookup table to be imported into all bots.\n",
    "    homePoints=-1; awayPoints=-1\n",
    "    for team in standings['standings'][0]['table']:\n",
    "        if team['team']['id'] == teamIDs[0]:\n",
    "            homeName = team['team']['name']\n",
    "            homePoints = team['points']\n",
    "        elif team['team']['id'] == teamIDs[1]:\n",
    "            awayName = team['team']['name']\n",
    "            awayPoints = team['points']\n",
    "    \n",
    "    if(homePoints < 0 or awayPoints < 0):\n",
    "            return \"Unable to grab points for one or both teams\"\n",
    "    \n",
    "    \n",
    "    if(homePoints > awayPoints):\n",
    "        return (homeName, homePoints - awayPoints)\n",
    "    elif(homePoints < awayPoints):\n",
    "        return (awayName, awayPoints - homePoints)\n",
    "    else:\n",
    "        return (\"Draw\", 0)\n",
    "        "
   ]
  },
  {
   "cell_type": "code",
   "execution_count": 22,
   "metadata": {},
   "outputs": [],
   "source": [
    "def doPredict():\n",
    "    \n",
    "    predictions=[]\n",
    "    \n",
    "    for match in schedule['matches']:\n",
    "        predictions.append(\n",
    "            bestestTeam((match['homeTeam']['id'], \n",
    "                         match['awayTeam']['id']))\n",
    "                            )\n",
    "    \n",
    "    for p in predictions:\n",
    "        print (\"%s, %d point(s) seperate the teams\" % (p[0], p[1]))\n",
    "        \n",
    "    \n",
    "\n",
    "\n"
   ]
  },
  {
   "cell_type": "code",
   "execution_count": 32,
   "metadata": {},
   "outputs": [
    {
     "name": "stdout",
     "output_type": "stream",
     "text": [
      "Liverpool FC, 11 point(s) seperate the teams\n",
      "Chelsea FC, 5 point(s) seperate the teams\n",
      "Tottenham Hotspur FC, 1 point(s) seperate the teams\n",
      "Draw, 0 point(s) seperate the teams\n",
      "Southampton FC, 2 point(s) seperate the teams\n",
      "Draw, 0 point(s) seperate the teams\n",
      "Manchester City FC, 4 point(s) seperate the teams\n",
      "AFC Bournemouth, 3 point(s) seperate the teams\n",
      "Arsenal FC, 6 point(s) seperate the teams\n",
      "West Ham United FC, 4 point(s) seperate the teams\n"
     ]
    }
   ],
   "source": [
    "doPredict()"
   ]
  },
  {
   "cell_type": "code",
   "execution_count": null,
   "metadata": {},
   "outputs": [],
   "source": [
    "\n",
    "    \n",
    "    "
   ]
  }
 ],
 "metadata": {
  "kernelspec": {
   "display_name": "Python 3",
   "language": "python",
   "name": "python3"
  },
  "language_info": {
   "codemirror_mode": {
    "name": "ipython",
    "version": 3
   },
   "file_extension": ".py",
   "mimetype": "text/x-python",
   "name": "python",
   "nbconvert_exporter": "python",
   "pygments_lexer": "ipython3",
   "version": "3.7.3"
  }
 },
 "nbformat": 4,
 "nbformat_minor": 2
}
